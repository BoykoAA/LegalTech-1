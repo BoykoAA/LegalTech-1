{
 "cells": [
  {
   "cell_type": "code",
   "execution_count": 1,
   "metadata": {
    "collapsed": true
   },
   "outputs": [],
   "source": [
    "import pandas as pd\n",
    "import numpy as np\n",
    "import matplotlib.pyplot as plt\n",
    "%matplotlib inline"
   ]
  },
  {
   "cell_type": "code",
   "execution_count": 2,
   "metadata": {
    "collapsed": true
   },
   "outputs": [],
   "source": [
    "data = pd.read_excel('data.xlsx', sheetname='Sheet2')"
   ]
  },
  {
   "cell_type": "code",
   "execution_count": 3,
   "metadata": {},
   "outputs": [
    {
     "data": {
      "text/html": [
       "<div>\n",
       "<table border=\"1\" class=\"dataframe\">\n",
       "  <thead>\n",
       "    <tr style=\"text-align: right;\">\n",
       "      <th></th>\n",
       "      <th>Parent Company / Emoyhtiö</th>\n",
       "      <th>Parent Company Type / Emoyhtiön tyyppi</th>\n",
       "      <th>Parent Company Home Country / Emoyhtiön kotimaa</th>\n",
       "      <th>Parent Company Industry / Emoyhtiön toimiala</th>\n",
       "      <th>Parent Company Responsible / Emoyhtiön asiakasvastaava</th>\n",
       "      <th>Principal / Toimeksiantaja</th>\n",
       "      <th>Principal Type / Toimeksiantajan tyyppi (e.g. key customer, customer,  partner, prospect, other)</th>\n",
       "      <th>Principal Home Country / Toimeksiantajan kotimaa</th>\n",
       "      <th>Payer / Maksaja</th>\n",
       "      <th>Payer Home Country / Maksajan kotimaa</th>\n",
       "      <th>...</th>\n",
       "      <th>Type (Fee/Expense) / Tyyppi (Palkkio/Kulu)</th>\n",
       "      <th>User / Käyttäjä</th>\n",
       "      <th>Invoice Number / Laskunumero</th>\n",
       "      <th>Non-Billable / Ei laskuteta (False/True)</th>\n",
       "      <th>Assignment.agency_guid</th>\n",
       "      <th>Assignment.Owner_Guid</th>\n",
       "      <th>Assignment.Responsible_Person_Guid</th>\n",
       "      <th>Assignment.Record_Guid</th>\n",
       "      <th>User.Record_Guid</th>\n",
       "      <th>Users.Manager_Guid</th>\n",
       "    </tr>\n",
       "  </thead>\n",
       "  <tbody>\n",
       "    <tr>\n",
       "      <th>0</th>\n",
       "      <td>NaN</td>\n",
       "      <td>NaN</td>\n",
       "      <td>NaN</td>\n",
       "      <td>NaN</td>\n",
       "      <td>NaN</td>\n",
       "      <td>Ankallispankki Oy</td>\n",
       "      <td>Prospect</td>\n",
       "      <td>Suomi</td>\n",
       "      <td>NaN</td>\n",
       "      <td>NaN</td>\n",
       "      <td>...</td>\n",
       "      <td>Palkkio</td>\n",
       "      <td>deb049ee-93d0-49df-8aea-1045c63a90f2</td>\n",
       "      <td>NaN</td>\n",
       "      <td>False</td>\n",
       "      <td>faa6df72-06be-4eaf-999e-022ef49754eb</td>\n",
       "      <td>deb049ee-93d0-49df-8aea-1045c63a90f2</td>\n",
       "      <td>deb049ee-93d0-49df-8aea-1045c63a90f2</td>\n",
       "      <td>11ad526c-0d72-445c-abd7-09ac5590c45f</td>\n",
       "      <td>deb049ee-93d0-49df-8aea-1045c63a90f2</td>\n",
       "      <td>NaN</td>\n",
       "    </tr>\n",
       "    <tr>\n",
       "      <th>1</th>\n",
       "      <td>NaN</td>\n",
       "      <td>NaN</td>\n",
       "      <td>NaN</td>\n",
       "      <td>NaN</td>\n",
       "      <td>NaN</td>\n",
       "      <td>Ankallispankki Oy</td>\n",
       "      <td>Prospect</td>\n",
       "      <td>Suomi</td>\n",
       "      <td>NaN</td>\n",
       "      <td>NaN</td>\n",
       "      <td>...</td>\n",
       "      <td>Palkkio</td>\n",
       "      <td>deb049ee-93d0-49df-8aea-1045c63a90f2</td>\n",
       "      <td>NaN</td>\n",
       "      <td>False</td>\n",
       "      <td>faa6df72-06be-4eaf-999e-022ef49754eb</td>\n",
       "      <td>deb049ee-93d0-49df-8aea-1045c63a90f2</td>\n",
       "      <td>deb049ee-93d0-49df-8aea-1045c63a90f2</td>\n",
       "      <td>11ad526c-0d72-445c-abd7-09ac5590c45f</td>\n",
       "      <td>deb049ee-93d0-49df-8aea-1045c63a90f2</td>\n",
       "      <td>NaN</td>\n",
       "    </tr>\n",
       "    <tr>\n",
       "      <th>2</th>\n",
       "      <td>NaN</td>\n",
       "      <td>NaN</td>\n",
       "      <td>NaN</td>\n",
       "      <td>NaN</td>\n",
       "      <td>NaN</td>\n",
       "      <td>Ankallispankki Oy</td>\n",
       "      <td>Prospect</td>\n",
       "      <td>Suomi</td>\n",
       "      <td>NaN</td>\n",
       "      <td>NaN</td>\n",
       "      <td>...</td>\n",
       "      <td>Palkkio</td>\n",
       "      <td>deb049ee-93d0-49df-8aea-1045c63a90f2</td>\n",
       "      <td>NaN</td>\n",
       "      <td>False</td>\n",
       "      <td>faa6df72-06be-4eaf-999e-022ef49754eb</td>\n",
       "      <td>deb049ee-93d0-49df-8aea-1045c63a90f2</td>\n",
       "      <td>deb049ee-93d0-49df-8aea-1045c63a90f2</td>\n",
       "      <td>11ad526c-0d72-445c-abd7-09ac5590c45f</td>\n",
       "      <td>deb049ee-93d0-49df-8aea-1045c63a90f2</td>\n",
       "      <td>NaN</td>\n",
       "    </tr>\n",
       "    <tr>\n",
       "      <th>3</th>\n",
       "      <td>NaN</td>\n",
       "      <td>NaN</td>\n",
       "      <td>NaN</td>\n",
       "      <td>NaN</td>\n",
       "      <td>NaN</td>\n",
       "      <td>Ankallispankki Oy</td>\n",
       "      <td>Prospect</td>\n",
       "      <td>Suomi</td>\n",
       "      <td>NaN</td>\n",
       "      <td>NaN</td>\n",
       "      <td>...</td>\n",
       "      <td>Palkkio</td>\n",
       "      <td>20db0c13-c601-4076-b161-7ac3af250c2d</td>\n",
       "      <td>NaN</td>\n",
       "      <td>False</td>\n",
       "      <td>faa6df72-06be-4eaf-999e-022ef49754eb</td>\n",
       "      <td>20db0c13-c601-4076-b161-7ac3af250c2d</td>\n",
       "      <td>20db0c13-c601-4076-b161-7ac3af250c2d</td>\n",
       "      <td>4b5fe04a-cab6-4f77-96a5-af43cff1b41f</td>\n",
       "      <td>20db0c13-c601-4076-b161-7ac3af250c2d</td>\n",
       "      <td>NaN</td>\n",
       "    </tr>\n",
       "    <tr>\n",
       "      <th>4</th>\n",
       "      <td>NaN</td>\n",
       "      <td>NaN</td>\n",
       "      <td>NaN</td>\n",
       "      <td>NaN</td>\n",
       "      <td>NaN</td>\n",
       "      <td>Ankallispankki Oy</td>\n",
       "      <td>Prospect</td>\n",
       "      <td>Suomi</td>\n",
       "      <td>NaN</td>\n",
       "      <td>NaN</td>\n",
       "      <td>...</td>\n",
       "      <td>Palkkio</td>\n",
       "      <td>20db0c13-c601-4076-b161-7ac3af250c2d</td>\n",
       "      <td>NaN</td>\n",
       "      <td>False</td>\n",
       "      <td>faa6df72-06be-4eaf-999e-022ef49754eb</td>\n",
       "      <td>20db0c13-c601-4076-b161-7ac3af250c2d</td>\n",
       "      <td>20db0c13-c601-4076-b161-7ac3af250c2d</td>\n",
       "      <td>4b5fe04a-cab6-4f77-96a5-af43cff1b41f</td>\n",
       "      <td>20db0c13-c601-4076-b161-7ac3af250c2d</td>\n",
       "      <td>NaN</td>\n",
       "    </tr>\n",
       "  </tbody>\n",
       "</table>\n",
       "<p>5 rows × 57 columns</p>\n",
       "</div>"
      ],
      "text/plain": [
       "  Parent Company / Emoyhtiö Parent Company Type / Emoyhtiön tyyppi  \\\n",
       "0                       NaN                                    NaN   \n",
       "1                       NaN                                    NaN   \n",
       "2                       NaN                                    NaN   \n",
       "3                       NaN                                    NaN   \n",
       "4                       NaN                                    NaN   \n",
       "\n",
       "  Parent Company Home Country / Emoyhtiön kotimaa  \\\n",
       "0                                             NaN   \n",
       "1                                             NaN   \n",
       "2                                             NaN   \n",
       "3                                             NaN   \n",
       "4                                             NaN   \n",
       "\n",
       "  Parent Company Industry / Emoyhtiön toimiala  \\\n",
       "0                                          NaN   \n",
       "1                                          NaN   \n",
       "2                                          NaN   \n",
       "3                                          NaN   \n",
       "4                                          NaN   \n",
       "\n",
       "  Parent Company Responsible / Emoyhtiön asiakasvastaava  \\\n",
       "0                                                NaN       \n",
       "1                                                NaN       \n",
       "2                                                NaN       \n",
       "3                                                NaN       \n",
       "4                                                NaN       \n",
       "\n",
       "  Principal / Toimeksiantaja  \\\n",
       "0          Ankallispankki Oy   \n",
       "1          Ankallispankki Oy   \n",
       "2          Ankallispankki Oy   \n",
       "3          Ankallispankki Oy   \n",
       "4          Ankallispankki Oy   \n",
       "\n",
       "  Principal Type / Toimeksiantajan tyyppi (e.g. key customer, customer,  partner, prospect, other)  \\\n",
       "0                                           Prospect                                                 \n",
       "1                                           Prospect                                                 \n",
       "2                                           Prospect                                                 \n",
       "3                                           Prospect                                                 \n",
       "4                                           Prospect                                                 \n",
       "\n",
       "  Principal Home Country / Toimeksiantajan kotimaa Payer / Maksaja  \\\n",
       "0                                            Suomi             NaN   \n",
       "1                                            Suomi             NaN   \n",
       "2                                            Suomi             NaN   \n",
       "3                                            Suomi             NaN   \n",
       "4                                            Suomi             NaN   \n",
       "\n",
       "  Payer Home Country / Maksajan kotimaa        ...          \\\n",
       "0                                   NaN        ...           \n",
       "1                                   NaN        ...           \n",
       "2                                   NaN        ...           \n",
       "3                                   NaN        ...           \n",
       "4                                   NaN        ...           \n",
       "\n",
       "  Type (Fee/Expense) / Tyyppi (Palkkio/Kulu)  \\\n",
       "0                                    Palkkio   \n",
       "1                                    Palkkio   \n",
       "2                                    Palkkio   \n",
       "3                                    Palkkio   \n",
       "4                                    Palkkio   \n",
       "\n",
       "                        User / Käyttäjä Invoice Number / Laskunumero   \\\n",
       "0  deb049ee-93d0-49df-8aea-1045c63a90f2                           NaN   \n",
       "1  deb049ee-93d0-49df-8aea-1045c63a90f2                           NaN   \n",
       "2  deb049ee-93d0-49df-8aea-1045c63a90f2                           NaN   \n",
       "3  20db0c13-c601-4076-b161-7ac3af250c2d                           NaN   \n",
       "4  20db0c13-c601-4076-b161-7ac3af250c2d                           NaN   \n",
       "\n",
       "  Non-Billable / Ei laskuteta (False/True)  \\\n",
       "0                                    False   \n",
       "1                                    False   \n",
       "2                                    False   \n",
       "3                                    False   \n",
       "4                                    False   \n",
       "\n",
       "                 Assignment.agency_guid                 Assignment.Owner_Guid  \\\n",
       "0  faa6df72-06be-4eaf-999e-022ef49754eb  deb049ee-93d0-49df-8aea-1045c63a90f2   \n",
       "1  faa6df72-06be-4eaf-999e-022ef49754eb  deb049ee-93d0-49df-8aea-1045c63a90f2   \n",
       "2  faa6df72-06be-4eaf-999e-022ef49754eb  deb049ee-93d0-49df-8aea-1045c63a90f2   \n",
       "3  faa6df72-06be-4eaf-999e-022ef49754eb  20db0c13-c601-4076-b161-7ac3af250c2d   \n",
       "4  faa6df72-06be-4eaf-999e-022ef49754eb  20db0c13-c601-4076-b161-7ac3af250c2d   \n",
       "\n",
       "     Assignment.Responsible_Person_Guid                Assignment.Record_Guid  \\\n",
       "0  deb049ee-93d0-49df-8aea-1045c63a90f2  11ad526c-0d72-445c-abd7-09ac5590c45f   \n",
       "1  deb049ee-93d0-49df-8aea-1045c63a90f2  11ad526c-0d72-445c-abd7-09ac5590c45f   \n",
       "2  deb049ee-93d0-49df-8aea-1045c63a90f2  11ad526c-0d72-445c-abd7-09ac5590c45f   \n",
       "3  20db0c13-c601-4076-b161-7ac3af250c2d  4b5fe04a-cab6-4f77-96a5-af43cff1b41f   \n",
       "4  20db0c13-c601-4076-b161-7ac3af250c2d  4b5fe04a-cab6-4f77-96a5-af43cff1b41f   \n",
       "\n",
       "                       User.Record_Guid Users.Manager_Guid  \n",
       "0  deb049ee-93d0-49df-8aea-1045c63a90f2                NaN  \n",
       "1  deb049ee-93d0-49df-8aea-1045c63a90f2                NaN  \n",
       "2  deb049ee-93d0-49df-8aea-1045c63a90f2                NaN  \n",
       "3  20db0c13-c601-4076-b161-7ac3af250c2d                NaN  \n",
       "4  20db0c13-c601-4076-b161-7ac3af250c2d                NaN  \n",
       "\n",
       "[5 rows x 57 columns]"
      ]
     },
     "execution_count": 3,
     "metadata": {},
     "output_type": "execute_result"
    }
   ],
   "source": [
    "data.head()"
   ]
  },
  {
   "cell_type": "code",
   "execution_count": 4,
   "metadata": {},
   "outputs": [
    {
     "data": {
      "text/plain": [
       "Index(['Parent Company / Emoyhtiö', 'Parent Company Type / Emoyhtiön tyyppi',\n",
       "       'Parent Company Home Country / Emoyhtiön kotimaa',\n",
       "       'Parent Company Industry / Emoyhtiön toimiala',\n",
       "       'Parent Company Responsible / Emoyhtiön asiakasvastaava',\n",
       "       'Principal / Toimeksiantaja',\n",
       "       'Principal Type / Toimeksiantajan tyyppi (e.g. key customer, customer,  partner, prospect, other)',\n",
       "       'Principal Home Country / Toimeksiantajan kotimaa', 'Payer / Maksaja',\n",
       "       'Payer Home Country / Maksajan kotimaa', 'Industry / Toimiala',\n",
       "       'Customer Responsible / Asiakasvastaava', 'Business Unit / Toimipiste',\n",
       "       'Assignment Type / Toimeksiantotyyppi (e.g. finance law / competition law)',\n",
       "       'Business Area / Liiketoimintaalue', 'Owner / Omistaja',\n",
       "       'Responsible / Vastuuhenkilö', 'Seller / Myyjä',\n",
       "       'Cost Center / Kustannuspaikka', 'Assignment / Toimeksianto',\n",
       "       'Internal / Sisäinen', 'Category / Kategoria (e.g. billable)',\n",
       "       'Transaction Type English',\n",
       "       'Transaction Type / Vakiotyyppi  (e.g. phone call /  investigated / e-mail to customer / presence in court)2',\n",
       "       'Skill / Osaamisalue (e.g. mergers and acquisitions,  shareholders’ agreements, energy, financing, construction and engineering, IT and telecommunications, product liability, sale of goods and distribution and agency)',\n",
       "       'Employee Role / Työntekijärooli (e.g. partner / lawyer / specialist)',\n",
       "       'Job Title / Toiminimike', 'Manager / Esimies', 'Author / Tekijä',\n",
       "       'Date / Päiväys', 'Total / Yhteensä',\n",
       "       'Billable Hours / Laskutettavat tunnit', 'Hours Worked / Tehdyt tunnit',\n",
       "       'Hour Price / Tuntihinta', 'Margin / Kate', 'Account / Tili',\n",
       "       'Tax Rate / Verokanta',\n",
       "       'Cost Center (Business Unit) / Toimipisteen kustannuspaikka',\n",
       "       'Transaction / Toimenpide',\n",
       "       'Transaction status (Open/Non-Billable/Credited/Invoiced/Sent/Paid/Cancelled/Printed) / Toimenpiteen tila (Avoin/Ei Laskuteta/Hyvitetty/Laskutettu/Lähetetty/Maksettu/Peruttu/Tulostettu)',\n",
       "       'Entry Date / Kirjauspäivä', 'Invoicing Date / Laskutuspäivä',\n",
       "       'Payment Date / Maksupäivä', 'Registered / Kirjattu',\n",
       "       'Invoiced / Laskutettu', 'Paid / Maksettu',\n",
       "       'Status (Registered/Invoiced/Paid) / Tila (Kirjattu/Laskutettu/Maksettu)',\n",
       "       'Type (Fee/Expense) / Tyyppi (Palkkio/Kulu)', 'User / Käyttäjä',\n",
       "       'Invoice Number / Laskunumero ',\n",
       "       'Non-Billable / Ei laskuteta (False/True)', 'Assignment.agency_guid',\n",
       "       'Assignment.Owner_Guid', 'Assignment.Responsible_Person_Guid',\n",
       "       'Assignment.Record_Guid', 'User.Record_Guid', 'Users.Manager_Guid'],\n",
       "      dtype='object')"
      ]
     },
     "execution_count": 4,
     "metadata": {},
     "output_type": "execute_result"
    }
   ],
   "source": [
    "data.columns"
   ]
  },
  {
   "cell_type": "code",
   "execution_count": null,
   "metadata": {
    "collapsed": true
   },
   "outputs": [],
   "source": []
  },
  {
   "cell_type": "code",
   "execution_count": null,
   "metadata": {
    "collapsed": true
   },
   "outputs": [],
   "source": []
  },
  {
   "cell_type": "code",
   "execution_count": null,
   "metadata": {
    "collapsed": true
   },
   "outputs": [],
   "source": []
  },
  {
   "cell_type": "code",
   "execution_count": null,
   "metadata": {
    "collapsed": true
   },
   "outputs": [],
   "source": []
  },
  {
   "cell_type": "markdown",
   "metadata": {
    "collapsed": true
   },
   "source": [
    "# Reading json"
   ]
  },
  {
   "cell_type": "code",
   "execution_count": 5,
   "metadata": {
    "collapsed": true
   },
   "outputs": [],
   "source": [
    "import json"
   ]
  },
  {
   "cell_type": "code",
   "execution_count": 6,
   "metadata": {
    "collapsed": true
   },
   "outputs": [],
   "source": [
    "with open('json_1', 'r') as f:\n",
    "    jsdata = json.load(f)"
   ]
  },
  {
   "cell_type": "code",
   "execution_count": 7,
   "metadata": {},
   "outputs": [
    {
     "data": {
      "text/plain": [
       "['1',\n",
       " '10',\n",
       " '11',\n",
       " '12',\n",
       " '13',\n",
       " '14',\n",
       " '15',\n",
       " '16',\n",
       " '17',\n",
       " '18',\n",
       " '2',\n",
       " '20080001',\n",
       " '20080004',\n",
       " '20080005',\n",
       " '20080006',\n",
       " '20080007',\n",
       " '20080008',\n",
       " '20080009',\n",
       " '20080010',\n",
       " '20080011',\n",
       " '20080012',\n",
       " '20080014',\n",
       " '20080015',\n",
       " '20080016',\n",
       " '20080017',\n",
       " '20080018',\n",
       " '20080019',\n",
       " '20080020',\n",
       " '20080021',\n",
       " '20080022',\n",
       " '20080023',\n",
       " '20080024',\n",
       " '20080025',\n",
       " '20080026',\n",
       " '20080027',\n",
       " '20080028',\n",
       " '20080029',\n",
       " '20080030',\n",
       " '20080031',\n",
       " '20080032',\n",
       " '20080033',\n",
       " '20080034',\n",
       " '20080035',\n",
       " '20080036',\n",
       " '20080037',\n",
       " '20080038',\n",
       " '20080039',\n",
       " '20080040',\n",
       " '20080041',\n",
       " '20080042',\n",
       " '20080043',\n",
       " '20080044',\n",
       " '20080045',\n",
       " '20080046',\n",
       " '20080047',\n",
       " '20080048',\n",
       " '20080049',\n",
       " '20080050',\n",
       " '20080051',\n",
       " '20080052',\n",
       " '20080053',\n",
       " '20080054',\n",
       " '20080055',\n",
       " '20080056',\n",
       " '20080057',\n",
       " '20080058',\n",
       " '20080059',\n",
       " '20080060',\n",
       " '20080061',\n",
       " '20080062',\n",
       " '20080063',\n",
       " '20080064',\n",
       " '20090001',\n",
       " '20090002',\n",
       " '20090003',\n",
       " '20090004',\n",
       " '20090005',\n",
       " '20090006',\n",
       " '20090007',\n",
       " '20090008',\n",
       " '20090009',\n",
       " '20090010',\n",
       " '20090012',\n",
       " '20090013',\n",
       " '20090014',\n",
       " '20090015',\n",
       " '20090016',\n",
       " '20090017',\n",
       " '20090018',\n",
       " '20090019',\n",
       " '20090020',\n",
       " '20090021',\n",
       " '20090022',\n",
       " '20090023',\n",
       " '20090024',\n",
       " '20090025',\n",
       " '20090026',\n",
       " '20090027',\n",
       " '20090028',\n",
       " '20090029',\n",
       " '20090030',\n",
       " '20090032',\n",
       " '20090033',\n",
       " '20090034',\n",
       " '20090036',\n",
       " '20090037',\n",
       " '20090038',\n",
       " '20090039',\n",
       " '20090040',\n",
       " '20090041',\n",
       " '20090042',\n",
       " '20090043',\n",
       " '20090044',\n",
       " '20090045',\n",
       " '20090046',\n",
       " '20090047',\n",
       " '20090048',\n",
       " '20090049',\n",
       " '20090050',\n",
       " '20090051',\n",
       " '20090052',\n",
       " '20090054',\n",
       " '20090055',\n",
       " '20090056',\n",
       " '20090057',\n",
       " '20090058',\n",
       " '20090059',\n",
       " '20090060',\n",
       " '20090061',\n",
       " '20090062',\n",
       " '20090063',\n",
       " '20090064',\n",
       " '20090066',\n",
       " '20090067',\n",
       " '20090068',\n",
       " '20100001',\n",
       " '20100002',\n",
       " '201100001',\n",
       " '20110001',\n",
       " '20110002',\n",
       " '20110003',\n",
       " '20110004',\n",
       " '20110005',\n",
       " '20110006',\n",
       " '20110007',\n",
       " '20110008',\n",
       " '20110009',\n",
       " '20110010',\n",
       " '20110011',\n",
       " '20120001',\n",
       " '20120002',\n",
       " '20120003',\n",
       " '20120004',\n",
       " '20120005',\n",
       " '20120006',\n",
       " '20120007',\n",
       " '20120008',\n",
       " '20120009',\n",
       " '20120010',\n",
       " '20120012',\n",
       " '20120013',\n",
       " '20120014',\n",
       " '20120015',\n",
       " '20120016',\n",
       " '20120017',\n",
       " '20120018',\n",
       " '20120020',\n",
       " '20120021',\n",
       " '20120022',\n",
       " '20120023',\n",
       " '20120024',\n",
       " '20120025',\n",
       " '20120026',\n",
       " '20120027',\n",
       " '20120028',\n",
       " '20120029',\n",
       " '20120030',\n",
       " '20120031',\n",
       " '20120032',\n",
       " '20120033',\n",
       " '20120034',\n",
       " '20120035',\n",
       " '20120036',\n",
       " '20120037',\n",
       " '20120038',\n",
       " '20120039',\n",
       " '20120040',\n",
       " '20120041',\n",
       " '20120042',\n",
       " '20120043',\n",
       " '20120044',\n",
       " '20120045',\n",
       " '20120046',\n",
       " '20120047',\n",
       " '20120048',\n",
       " '20120049',\n",
       " '20120050',\n",
       " '20120051',\n",
       " '20120052',\n",
       " '20120053',\n",
       " '3',\n",
       " '4',\n",
       " '5',\n",
       " '6',\n",
       " '7',\n",
       " '8',\n",
       " '9']"
      ]
     },
     "execution_count": 7,
     "metadata": {},
     "output_type": "execute_result"
    }
   ],
   "source": [
    "list(jsdata.keys())"
   ]
  },
  {
   "cell_type": "code",
   "execution_count": 8,
   "metadata": {},
   "outputs": [
    {
     "data": {
      "text/plain": [
       "[{'Billable Hours': 13.0,\n",
       "  'Cost Center (Business Unit)': nan,\n",
       "  'Date': '2013-05-15',\n",
       "  'Entry Date': '2013-03-12',\n",
       "  'Hour Price': 300.0,\n",
       "  'Hours Worked': 13.0,\n",
       "  'Invoice Number': '2013-0073',\n",
       "  'Invoiced': 900.0,\n",
       "  'Invoicing Date': '2013-03-12',\n",
       "  'Margin': 900.0,\n",
       "  'Non-Billable': 'False',\n",
       "  'Paid': 900.0,\n",
       "  'Payment Date': '2013-05-15',\n",
       "  'Skill': nan,\n",
       "  'Status (Registere': 'Maksettu',\n",
       "  'Tax Rate': 'Alv 24 %',\n",
       "  'Total': 900.0,\n",
       "  'Transaction': 'Haastehakemuksen työstäminen',\n",
       "  'Transaction Type Englis': 'Writing a complaint',\n",
       "  'Transaction status (Ope': 'Maksettu',\n",
       "  'Type (Fe': 'Palkkio'},\n",
       " {'Billable Hours': 6.41,\n",
       "  'Cost Center (Business Unit)': nan,\n",
       "  'Date': '2013-03-12',\n",
       "  'Entry Date': '2013-01-17',\n",
       "  'Hour Price': 300.0,\n",
       "  'Hours Worked': 6.41,\n",
       "  'Invoice Number': '2013-0072',\n",
       "  'Invoiced': 900.0,\n",
       "  'Invoicing Date': '2013-03-12',\n",
       "  'Margin': 900.0,\n",
       "  'Non-Billable': 'False',\n",
       "  'Paid': 124.42,\n",
       "  'Payment Date': 'NaT',\n",
       "  'Skill': nan,\n",
       "  'Status (Registere': 'Maksettu',\n",
       "  'Tax Rate': 'Alv 24 %',\n",
       "  'Total': 900.0,\n",
       "  'Transaction': 'Haastehakemuksen työstäminen ja sitä kyllä työtettiinkin todella pitkään. Hyvähän siitä loppujen lopuksi tuli, mutta työtä se teetti todella paljon. Ja kaiken lisäksi siitä saa veloittaa vaan kolmen tunnin työn. Todellisuudessa aikaa meni varmaan tuplaten. Mutta minkäs teet, tällaisia nämä oikeusaputapaukset on - ei niistä rahaa taloon tule, mutta työtä ne kyllä teettävät ja paljon.',\n",
       "  'Transaction Type Englis': 'Writing a complaint',\n",
       "  'Transaction status (Ope': 'Avoin',\n",
       "  'Type (Fe': 'Palkkio'},\n",
       " {'Billable Hours': 0.0,\n",
       "  'Cost Center (Business Unit)': nan,\n",
       "  'Date': '2013-05-15',\n",
       "  'Entry Date': '2013-03-12',\n",
       "  'Hour Price': nan,\n",
       "  'Hours Worked': 0.0,\n",
       "  'Invoice Number': '2013-0073',\n",
       "  'Invoiced': 87.78,\n",
       "  'Invoicing Date': '2013-03-12',\n",
       "  'Margin': nan,\n",
       "  'Non-Billable': 'False',\n",
       "  'Paid': 132.23999999999995,\n",
       "  'Payment Date': '2013-05-15',\n",
       "  'Skill': nan,\n",
       "  'Status (Registere': 'Maksettu',\n",
       "  'Tax Rate': 'Alv 24 %',\n",
       "  'Total': 87.78,\n",
       "  'Transaction': 'Junalippu',\n",
       "  'Transaction Type Englis': 'Train ticket',\n",
       "  'Transaction status (Ope': 'Maksettu',\n",
       "  'Type (Fe': 'Kulu'},\n",
       " {'Billable Hours': 0.0,\n",
       "  'Cost Center (Business Unit)': nan,\n",
       "  'Date': '2013-01-17',\n",
       "  'Entry Date': '2012-12-12',\n",
       "  'Hour Price': nan,\n",
       "  'Hours Worked': 0.0,\n",
       "  'Invoice Number': '2013-0061',\n",
       "  'Invoiced': 48.36,\n",
       "  'Invoicing Date': '2012-12-31',\n",
       "  'Margin': nan,\n",
       "  'Non-Billable': 'False',\n",
       "  'Paid': 48.36,\n",
       "  'Payment Date': '2013-01-17',\n",
       "  'Skill': nan,\n",
       "  'Status (Registere': 'Maksettu',\n",
       "  'Tax Rate': 'Alv 23 %',\n",
       "  'Total': 48.36,\n",
       "  'Transaction': 'Junalippu alv 8 %',\n",
       "  'Transaction Type Englis': 'Train ticket',\n",
       "  'Transaction status (Ope': 'Maksettu',\n",
       "  'Type (Fe': 'Kulu'},\n",
       " {'Billable Hours': 0.0,\n",
       "  'Cost Center (Business Unit)': nan,\n",
       "  'Date': '2014-07-08',\n",
       "  'Entry Date': '2013-05-15',\n",
       "  'Hour Price': nan,\n",
       "  'Hours Worked': 0.0,\n",
       "  'Invoice Number': '2013-0089',\n",
       "  'Invoiced': 162.9,\n",
       "  'Invoicing Date': '2013-06-11',\n",
       "  'Margin': nan,\n",
       "  'Non-Billable': 'False',\n",
       "  'Paid': 162.9,\n",
       "  'Payment Date': '2014-07-08',\n",
       "  'Skill': nan,\n",
       "  'Status (Registere': 'Maksettu',\n",
       "  'Tax Rate': 'Alv 24 %',\n",
       "  'Total': 162.9,\n",
       "  'Transaction': 'Kilometrikorvaus HKI-TRE-HKI',\n",
       "  'Transaction Type Englis': 'Mileage allowance',\n",
       "  'Transaction status (Ope': 'Maksettu',\n",
       "  'Type (Fe': 'Kulu'},\n",
       " {'Billable Hours': 63.76,\n",
       "  'Cost Center (Business Unit)': nan,\n",
       "  'Date': '2012-12-31',\n",
       "  'Entry Date': '2012-12-31',\n",
       "  'Hour Price': 300.0,\n",
       "  'Hours Worked': 45.08,\n",
       "  'Invoice Number': '2013-0070',\n",
       "  'Invoiced': 3000.0,\n",
       "  'Invoicing Date': '2012-12-31',\n",
       "  'Margin': 3000.0,\n",
       "  'Non-Billable': 'False',\n",
       "  'Paid': 6527.64,\n",
       "  'Payment Date': 'NaT',\n",
       "  'Skill': nan,\n",
       "  'Status (Registere': 'Maksettu',\n",
       "  'Tax Rate': 'Alv 23 %',\n",
       "  'Total': 3000.0,\n",
       "  'Transaction': 'Laadittu kirje',\n",
       "  'Transaction Type Englis': 'Writing a letter',\n",
       "  'Transaction status (Ope': 'Avoin',\n",
       "  'Type (Fe': 'Palkkio'},\n",
       " {'Billable Hours': 2.16,\n",
       "  'Cost Center (Business Unit)': nan,\n",
       "  'Date': '2013-05-06',\n",
       "  'Entry Date': '2013-03-20',\n",
       "  'Hour Price': 30.0,\n",
       "  'Hours Worked': 2.16,\n",
       "  'Invoice Number': '2013-0081',\n",
       "  'Invoiced': 500.0,\n",
       "  'Invoicing Date': '2013-05-06',\n",
       "  'Margin': 500.0,\n",
       "  'Non-Billable': 'False',\n",
       "  'Paid': 80.65,\n",
       "  'Payment Date': 'NaT',\n",
       "  'Skill': nan,\n",
       "  'Status (Registere': 'Maksettu',\n",
       "  'Tax Rate': 'Alv 24 %',\n",
       "  'Total': 500.0,\n",
       "  'Transaction': 'Muu: työtä',\n",
       "  'Transaction Type Englis': 'Other',\n",
       "  'Transaction status (Ope': 'Tulostettu',\n",
       "  'Type (Fe': 'Palkkio'},\n",
       " {'Billable Hours': 4.5,\n",
       "  'Cost Center (Business Unit)': nan,\n",
       "  'Date': '2013-01-17',\n",
       "  'Entry Date': '2012-12-05',\n",
       "  'Hour Price': 300.0,\n",
       "  'Hours Worked': 3.0,\n",
       "  'Invoice Number': '2013-0061',\n",
       "  'Invoiced': 300.0,\n",
       "  'Invoicing Date': '2012-12-31',\n",
       "  'Margin': 300.0,\n",
       "  'Non-Billable': 'False',\n",
       "  'Paid': 300.0,\n",
       "  'Payment Date': '2013-01-17',\n",
       "  'Skill': nan,\n",
       "  'Status (Registere': 'Maksettu',\n",
       "  'Tax Rate': 'Alv 23 %',\n",
       "  'Total': 300.0,\n",
       "  'Transaction': 'Neuvottelu toimistolla',\n",
       "  'Transaction Type Englis': 'Negotiation',\n",
       "  'Transaction status (Ope': 'Maksettu',\n",
       "  'Type (Fe': 'Palkkio'}]"
      ]
     },
     "execution_count": 8,
     "metadata": {},
     "output_type": "execute_result"
    }
   ],
   "source": [
    "transactions = jsdata['20120036']['Transactions']\n",
    "transactions = list(transactions.values())\n",
    "transactions"
   ]
  },
  {
   "cell_type": "code",
   "execution_count": 9,
   "metadata": {},
   "outputs": [
    {
     "ename": "NameError",
     "evalue": "name 'datetime' is not defined",
     "output_type": "error",
     "traceback": [
      "\u001b[0;31m---------------------------------------------------------------------------\u001b[0m",
      "\u001b[0;31mNameError\u001b[0m                                 Traceback (most recent call last)",
      "\u001b[0;32m<ipython-input-9-12ba6df8f59a>\u001b[0m in \u001b[0;36m<module>\u001b[0;34m()\u001b[0m\n\u001b[0;32m----> 1\u001b[0;31m \u001b[0mtransactions\u001b[0m \u001b[0;34m=\u001b[0m \u001b[0msorted\u001b[0m\u001b[0;34m(\u001b[0m\u001b[0mtransactions\u001b[0m\u001b[0;34m,\u001b[0m \u001b[0mkey\u001b[0m\u001b[0;34m=\u001b[0m\u001b[0;32mlambda\u001b[0m \u001b[0mx\u001b[0m\u001b[0;34m:\u001b[0m \u001b[0mdatetime\u001b[0m\u001b[0;34m.\u001b[0m\u001b[0mdatetime\u001b[0m\u001b[0;34m.\u001b[0m\u001b[0mstrptime\u001b[0m\u001b[0;34m(\u001b[0m\u001b[0mx\u001b[0m\u001b[0;34m[\u001b[0m\u001b[0;34m'Entry Date'\u001b[0m\u001b[0;34m]\u001b[0m\u001b[0;34m,\u001b[0m \u001b[0;34m'%Y-%m-%d'\u001b[0m\u001b[0;34m)\u001b[0m\u001b[0;34m)\u001b[0m\u001b[0;34m\u001b[0m\u001b[0m\n\u001b[0m",
      "\u001b[0;32m<ipython-input-9-12ba6df8f59a>\u001b[0m in \u001b[0;36m<lambda>\u001b[0;34m(x)\u001b[0m\n\u001b[0;32m----> 1\u001b[0;31m \u001b[0mtransactions\u001b[0m \u001b[0;34m=\u001b[0m \u001b[0msorted\u001b[0m\u001b[0;34m(\u001b[0m\u001b[0mtransactions\u001b[0m\u001b[0;34m,\u001b[0m \u001b[0mkey\u001b[0m\u001b[0;34m=\u001b[0m\u001b[0;32mlambda\u001b[0m \u001b[0mx\u001b[0m\u001b[0;34m:\u001b[0m \u001b[0mdatetime\u001b[0m\u001b[0;34m.\u001b[0m\u001b[0mdatetime\u001b[0m\u001b[0;34m.\u001b[0m\u001b[0mstrptime\u001b[0m\u001b[0;34m(\u001b[0m\u001b[0mx\u001b[0m\u001b[0;34m[\u001b[0m\u001b[0;34m'Entry Date'\u001b[0m\u001b[0;34m]\u001b[0m\u001b[0;34m,\u001b[0m \u001b[0;34m'%Y-%m-%d'\u001b[0m\u001b[0;34m)\u001b[0m\u001b[0;34m)\u001b[0m\u001b[0;34m\u001b[0m\u001b[0m\n\u001b[0m",
      "\u001b[0;31mNameError\u001b[0m: name 'datetime' is not defined"
     ]
    }
   ],
   "source": [
    "transactions = sorted(transactions, key=lambda x: datetime.datetime.strptime(x['Entry Date'], '%Y-%m-%d'))"
   ]
  },
  {
   "cell_type": "code",
   "execution_count": null,
   "metadata": {
    "collapsed": true
   },
   "outputs": [],
   "source": [
    "flat_transactions = []\n",
    "\n",
    "for transaction in list(jsdata['1']['Transactions'].items()):\n",
    "    flat_transaction = transaction[1]\n",
    "    flat_transaction['Title'] = transaction[0]\n",
    "    \n",
    "    flat_transactions.append(flat_transaction)"
   ]
  },
  {
   "cell_type": "code",
   "execution_count": null,
   "metadata": {
    "collapsed": true
   },
   "outputs": [],
   "source": [
    "total_for_transactions = '{:.2f}'.format(sum([trans['Total'] for trans in flat_transactions]))"
   ]
  },
  {
   "cell_type": "code",
   "execution_count": null,
   "metadata": {
    "collapsed": true
   },
   "outputs": [],
   "source": [
    "import datetime\n",
    "\n",
    "# year-month-day\n",
    "flat_transactions = sorted(flat_transactions, key=lambda x: datetime.datetime.strptime(x['Entry Date'], '%Y-%m-%d'))"
   ]
  },
  {
   "cell_type": "code",
   "execution_count": null,
   "metadata": {
    "scrolled": true
   },
   "outputs": [],
   "source": [
    "jsdata['1']"
   ]
  },
  {
   "cell_type": "code",
   "execution_count": null,
   "metadata": {},
   "outputs": [],
   "source": [
    "flat_transactions"
   ]
  },
  {
   "cell_type": "code",
   "execution_count": null,
   "metadata": {
    "scrolled": true
   },
   "outputs": [],
   "source": [
    "tmp"
   ]
  },
  {
   "cell_type": "code",
   "execution_count": null,
   "metadata": {
    "collapsed": true
   },
   "outputs": [],
   "source": [
    "import requests"
   ]
  },
  {
   "cell_type": "code",
   "execution_count": null,
   "metadata": {
    "collapsed": true
   },
   "outputs": [],
   "source": [
    "url = \"http://10.100.44.140:5001/t/kasldklasd\"\n",
    "req = requests.get(url)\n",
    "rjson = req.json()"
   ]
  },
  {
   "cell_type": "code",
   "execution_count": null,
   "metadata": {},
   "outputs": [],
   "source": [
    "rjson"
   ]
  },
  {
   "cell_type": "code",
   "execution_count": null,
   "metadata": {
    "collapsed": true
   },
   "outputs": [],
   "source": []
  },
  {
   "cell_type": "markdown",
   "metadata": {
    "collapsed": true
   },
   "source": [
    "# Timeline"
   ]
  },
  {
   "cell_type": "code",
   "execution_count": 1,
   "metadata": {},
   "outputs": [
    {
     "name": "stdout",
     "output_type": "stream",
     "text": [
      "max_date is 2008-09-02, current_date is 2008-08-30\n",
      "True\n"
     ]
    }
   ],
   "source": [
    "from legal_tech_utils import get_timeline"
   ]
  },
  {
   "cell_type": "code",
   "execution_count": 2,
   "metadata": {},
   "outputs": [
    {
     "name": "stdout",
     "output_type": "stream",
     "text": [
      "max_date is 2008-09-02, current_date is 2008-08-30\n",
      "True\n"
     ]
    }
   ],
   "source": [
    "get_timeline('1', '2008-08-30')"
   ]
  },
  {
   "cell_type": "code",
   "execution_count": 3,
   "metadata": {
    "collapsed": true
   },
   "outputs": [],
   "source": [
    "?get_timeline"
   ]
  },
  {
   "cell_type": "code",
   "execution_count": 4,
   "metadata": {
    "collapsed": true
   },
   "outputs": [],
   "source": [
    "from legal_tech_utils import gen_status_bar"
   ]
  },
  {
   "cell_type": "code",
   "execution_count": 5,
   "metadata": {
    "scrolled": true
   },
   "outputs": [
    {
     "data": {
      "text/plain": [
       "{'filepath': 'progress_bar.png', 'percent': '78\\\\%'}"
      ]
     },
     "execution_count": 5,
     "metadata": {},
     "output_type": "execute_result"
    }
   ],
   "source": [
    "gen_status_bar('1', '2008-08-30')"
   ]
  },
  {
   "cell_type": "code",
   "execution_count": 8,
   "metadata": {},
   "outputs": [
    {
     "ename": "ImportError",
     "evalue": "MagickWand shared library not found.\nYou probably had not installed ImageMagick library.\nTry to install:\n  brew install freetype imagemagick",
     "output_type": "error",
     "traceback": [
      "\u001b[0;31m---------------------------------------------------------------------------\u001b[0m",
      "\u001b[0;31mOSError\u001b[0m                                   Traceback (most recent call last)",
      "\u001b[0;32m/usr/local/lib/python3.6/site-packages/wand/api.py\u001b[0m in \u001b[0;36m<module>\u001b[0;34m()\u001b[0m\n\u001b[1;32m    179\u001b[0m \u001b[0;32mtry\u001b[0m\u001b[0;34m:\u001b[0m\u001b[0;34m\u001b[0m\u001b[0m\n\u001b[0;32m--> 180\u001b[0;31m     \u001b[0mlibraries\u001b[0m \u001b[0;34m=\u001b[0m \u001b[0mload_library\u001b[0m\u001b[0;34m(\u001b[0m\u001b[0;34m)\u001b[0m\u001b[0;34m\u001b[0m\u001b[0m\n\u001b[0m\u001b[1;32m    181\u001b[0m \u001b[0;32mexcept\u001b[0m \u001b[0;34m(\u001b[0m\u001b[0mOSError\u001b[0m\u001b[0;34m,\u001b[0m \u001b[0mIOError\u001b[0m\u001b[0;34m)\u001b[0m\u001b[0;34m:\u001b[0m\u001b[0;34m\u001b[0m\u001b[0m\n",
      "\u001b[0;32m/usr/local/lib/python3.6/site-packages/wand/api.py\u001b[0m in \u001b[0;36mload_library\u001b[0;34m()\u001b[0m\n\u001b[1;32m    134\u001b[0m         \u001b[0;32mreturn\u001b[0m \u001b[0mlibwand\u001b[0m\u001b[0;34m,\u001b[0m \u001b[0mlibmagick\u001b[0m\u001b[0;34m\u001b[0m\u001b[0m\n\u001b[0;32m--> 135\u001b[0;31m     \u001b[0;32mraise\u001b[0m \u001b[0mIOError\u001b[0m\u001b[0;34m(\u001b[0m\u001b[0;34m'cannot find library; tried paths: '\u001b[0m \u001b[0;34m+\u001b[0m \u001b[0mrepr\u001b[0m\u001b[0;34m(\u001b[0m\u001b[0mtried_paths\u001b[0m\u001b[0;34m)\u001b[0m\u001b[0;34m)\u001b[0m\u001b[0;34m\u001b[0m\u001b[0m\n\u001b[0m\u001b[1;32m    136\u001b[0m \u001b[0;34m\u001b[0m\u001b[0m\n",
      "\u001b[0;31mOSError\u001b[0m: cannot find library; tried paths: []",
      "\nDuring handling of the above exception, another exception occurred:\n",
      "\u001b[0;31mImportError\u001b[0m                               Traceback (most recent call last)",
      "\u001b[0;32m<ipython-input-8-4284ec66b151>\u001b[0m in \u001b[0;36m<module>\u001b[0;34m()\u001b[0m\n\u001b[0;32m----> 1\u001b[0;31m \u001b[0;32mfrom\u001b[0m \u001b[0mwand\u001b[0m\u001b[0;34m.\u001b[0m\u001b[0mimage\u001b[0m \u001b[0;32mimport\u001b[0m \u001b[0mImage\u001b[0m\u001b[0;34m\u001b[0m\u001b[0m\n\u001b[0m\u001b[1;32m      2\u001b[0m \u001b[0;32mfrom\u001b[0m \u001b[0mwand\u001b[0m\u001b[0;34m.\u001b[0m\u001b[0mcolor\u001b[0m \u001b[0;32mimport\u001b[0m \u001b[0mColor\u001b[0m\u001b[0;34m\u001b[0m\u001b[0m\n\u001b[1;32m      3\u001b[0m \u001b[0;34m\u001b[0m\u001b[0m\n\u001b[1;32m      4\u001b[0m \u001b[0;32mwith\u001b[0m \u001b[0mImage\u001b[0m\u001b[0;34m(\u001b[0m\u001b[0mfilename\u001b[0m\u001b[0;34m=\u001b[0m\u001b[0;34m\"sample.pdf\"\u001b[0m\u001b[0;34m,\u001b[0m \u001b[0mresolution\u001b[0m\u001b[0;34m=\u001b[0m\u001b[0;36m300\u001b[0m\u001b[0;34m)\u001b[0m \u001b[0;32mas\u001b[0m \u001b[0mimg\u001b[0m\u001b[0;34m:\u001b[0m\u001b[0;34m\u001b[0m\u001b[0m\n\u001b[1;32m      5\u001b[0m   \u001b[0;32mwith\u001b[0m \u001b[0mImage\u001b[0m\u001b[0;34m(\u001b[0m\u001b[0mwidth\u001b[0m\u001b[0;34m=\u001b[0m\u001b[0mimg\u001b[0m\u001b[0;34m.\u001b[0m\u001b[0mwidth\u001b[0m\u001b[0;34m,\u001b[0m \u001b[0mheight\u001b[0m\u001b[0;34m=\u001b[0m\u001b[0mimg\u001b[0m\u001b[0;34m.\u001b[0m\u001b[0mheight\u001b[0m\u001b[0;34m,\u001b[0m \u001b[0mbackground\u001b[0m\u001b[0;34m=\u001b[0m\u001b[0mColor\u001b[0m\u001b[0;34m(\u001b[0m\u001b[0;34m\"white\"\u001b[0m\u001b[0;34m)\u001b[0m\u001b[0;34m)\u001b[0m \u001b[0;32mas\u001b[0m \u001b[0mbg\u001b[0m\u001b[0;34m:\u001b[0m\u001b[0;34m\u001b[0m\u001b[0m\n",
      "\u001b[0;32m/usr/local/lib/python3.6/site-packages/wand/image.py\u001b[0m in \u001b[0;36m<module>\u001b[0;34m()\u001b[0m\n\u001b[1;32m     18\u001b[0m \u001b[0;34m\u001b[0m\u001b[0m\n\u001b[1;32m     19\u001b[0m \u001b[0;32mfrom\u001b[0m \u001b[0;34m.\u001b[0m \u001b[0;32mimport\u001b[0m \u001b[0mcompat\u001b[0m\u001b[0;34m\u001b[0m\u001b[0m\n\u001b[0;32m---> 20\u001b[0;31m \u001b[0;32mfrom\u001b[0m \u001b[0;34m.\u001b[0m\u001b[0mapi\u001b[0m \u001b[0;32mimport\u001b[0m \u001b[0mMagickPixelPacket\u001b[0m\u001b[0;34m,\u001b[0m \u001b[0mlibc\u001b[0m\u001b[0;34m,\u001b[0m \u001b[0mlibmagick\u001b[0m\u001b[0;34m,\u001b[0m \u001b[0mlibrary\u001b[0m\u001b[0;34m\u001b[0m\u001b[0m\n\u001b[0m\u001b[1;32m     21\u001b[0m \u001b[0;32mfrom\u001b[0m \u001b[0;34m.\u001b[0m\u001b[0mcolor\u001b[0m \u001b[0;32mimport\u001b[0m \u001b[0mColor\u001b[0m\u001b[0;34m\u001b[0m\u001b[0m\n\u001b[1;32m     22\u001b[0m from .compat import (binary, binary_type, encode_filename, file_types,\n",
      "\u001b[0;32m/usr/local/lib/python3.6/site-packages/wand/api.py\u001b[0m in \u001b[0;36m<module>\u001b[0;34m()\u001b[0m\n\u001b[1;32m    204\u001b[0m     raise ImportError('MagickWand shared library not found.\\n'\n\u001b[1;32m    205\u001b[0m                       \u001b[0;34m'You probably had not installed ImageMagick library.\\n'\u001b[0m\u001b[0;34m\u001b[0m\u001b[0m\n\u001b[0;32m--> 206\u001b[0;31m                       'Try to install:\\n  ' + msg)\n\u001b[0m\u001b[1;32m    207\u001b[0m \u001b[0;34m\u001b[0m\u001b[0m\n\u001b[1;32m    208\u001b[0m \u001b[0;31m#: (:class:`ctypes.CDLL`) The MagickWand library.\u001b[0m\u001b[0;34m\u001b[0m\u001b[0;34m\u001b[0m\u001b[0m\n",
      "\u001b[0;31mImportError\u001b[0m: MagickWand shared library not found.\nYou probably had not installed ImageMagick library.\nTry to install:\n  brew install freetype imagemagick"
     ]
    }
   ],
   "source": [
    "from wand.image import Image\n",
    "from wand.color import Color\n",
    "\n",
    "with Image(filename=\"sample.pdf\", resolution=300) as img:\n",
    "  with Image(width=img.width, height=img.height, background=Color(\"white\")) as bg:\n",
    "    bg.composite(img,0,0)\n",
    "    bg.save(filename=\"image.png\")"
   ]
  },
  {
   "cell_type": "code",
   "execution_count": 1,
   "metadata": {},
   "outputs": [
    {
     "ename": "ImportError",
     "evalue": "MagickWand shared library not found.\nYou probably had not installed ImageMagick library.\nTry to install:\n  brew install freetype imagemagick",
     "output_type": "error",
     "traceback": [
      "\u001b[0;31m---------------------------------------------------------------------------\u001b[0m",
      "\u001b[0;31mOSError\u001b[0m                                   Traceback (most recent call last)",
      "\u001b[0;32m/usr/local/lib/python3.6/site-packages/wand/api.py\u001b[0m in \u001b[0;36m<module>\u001b[0;34m()\u001b[0m\n\u001b[1;32m    179\u001b[0m \u001b[0;32mtry\u001b[0m\u001b[0;34m:\u001b[0m\u001b[0;34m\u001b[0m\u001b[0m\n\u001b[0;32m--> 180\u001b[0;31m     \u001b[0mlibraries\u001b[0m \u001b[0;34m=\u001b[0m \u001b[0mload_library\u001b[0m\u001b[0;34m(\u001b[0m\u001b[0;34m)\u001b[0m\u001b[0;34m\u001b[0m\u001b[0m\n\u001b[0m\u001b[1;32m    181\u001b[0m \u001b[0;32mexcept\u001b[0m \u001b[0;34m(\u001b[0m\u001b[0mOSError\u001b[0m\u001b[0;34m,\u001b[0m \u001b[0mIOError\u001b[0m\u001b[0;34m)\u001b[0m\u001b[0;34m:\u001b[0m\u001b[0;34m\u001b[0m\u001b[0m\n",
      "\u001b[0;32m/usr/local/lib/python3.6/site-packages/wand/api.py\u001b[0m in \u001b[0;36mload_library\u001b[0;34m()\u001b[0m\n\u001b[1;32m    134\u001b[0m         \u001b[0;32mreturn\u001b[0m \u001b[0mlibwand\u001b[0m\u001b[0;34m,\u001b[0m \u001b[0mlibmagick\u001b[0m\u001b[0;34m\u001b[0m\u001b[0m\n\u001b[0;32m--> 135\u001b[0;31m     \u001b[0;32mraise\u001b[0m \u001b[0mIOError\u001b[0m\u001b[0;34m(\u001b[0m\u001b[0;34m'cannot find library; tried paths: '\u001b[0m \u001b[0;34m+\u001b[0m \u001b[0mrepr\u001b[0m\u001b[0;34m(\u001b[0m\u001b[0mtried_paths\u001b[0m\u001b[0;34m)\u001b[0m\u001b[0;34m)\u001b[0m\u001b[0;34m\u001b[0m\u001b[0m\n\u001b[0m\u001b[1;32m    136\u001b[0m \u001b[0;34m\u001b[0m\u001b[0m\n",
      "\u001b[0;31mOSError\u001b[0m: cannot find library; tried paths: []",
      "\nDuring handling of the above exception, another exception occurred:\n",
      "\u001b[0;31mImportError\u001b[0m                               Traceback (most recent call last)",
      "\u001b[0;32m<ipython-input-1-2d310cffd5e1>\u001b[0m in \u001b[0;36m<module>\u001b[0;34m()\u001b[0m\n\u001b[0;32m----> 1\u001b[0;31m \u001b[0;32mfrom\u001b[0m \u001b[0mwand\u001b[0m\u001b[0;34m.\u001b[0m\u001b[0mimage\u001b[0m \u001b[0;32mimport\u001b[0m \u001b[0mImage\u001b[0m\u001b[0;34m,\u001b[0m \u001b[0mColor\u001b[0m\u001b[0;34m\u001b[0m\u001b[0m\n\u001b[0m",
      "\u001b[0;32m/usr/local/lib/python3.6/site-packages/wand/image.py\u001b[0m in \u001b[0;36m<module>\u001b[0;34m()\u001b[0m\n\u001b[1;32m     18\u001b[0m \u001b[0;34m\u001b[0m\u001b[0m\n\u001b[1;32m     19\u001b[0m \u001b[0;32mfrom\u001b[0m \u001b[0;34m.\u001b[0m \u001b[0;32mimport\u001b[0m \u001b[0mcompat\u001b[0m\u001b[0;34m\u001b[0m\u001b[0m\n\u001b[0;32m---> 20\u001b[0;31m \u001b[0;32mfrom\u001b[0m \u001b[0;34m.\u001b[0m\u001b[0mapi\u001b[0m \u001b[0;32mimport\u001b[0m \u001b[0mMagickPixelPacket\u001b[0m\u001b[0;34m,\u001b[0m \u001b[0mlibc\u001b[0m\u001b[0;34m,\u001b[0m \u001b[0mlibmagick\u001b[0m\u001b[0;34m,\u001b[0m \u001b[0mlibrary\u001b[0m\u001b[0;34m\u001b[0m\u001b[0m\n\u001b[0m\u001b[1;32m     21\u001b[0m \u001b[0;32mfrom\u001b[0m \u001b[0;34m.\u001b[0m\u001b[0mcolor\u001b[0m \u001b[0;32mimport\u001b[0m \u001b[0mColor\u001b[0m\u001b[0;34m\u001b[0m\u001b[0m\n\u001b[1;32m     22\u001b[0m from .compat import (binary, binary_type, encode_filename, file_types,\n",
      "\u001b[0;32m/usr/local/lib/python3.6/site-packages/wand/api.py\u001b[0m in \u001b[0;36m<module>\u001b[0;34m()\u001b[0m\n\u001b[1;32m    204\u001b[0m     raise ImportError('MagickWand shared library not found.\\n'\n\u001b[1;32m    205\u001b[0m                       \u001b[0;34m'You probably had not installed ImageMagick library.\\n'\u001b[0m\u001b[0;34m\u001b[0m\u001b[0m\n\u001b[0;32m--> 206\u001b[0;31m                       'Try to install:\\n  ' + msg)\n\u001b[0m\u001b[1;32m    207\u001b[0m \u001b[0;34m\u001b[0m\u001b[0m\n\u001b[1;32m    208\u001b[0m \u001b[0;31m#: (:class:`ctypes.CDLL`) The MagickWand library.\u001b[0m\u001b[0;34m\u001b[0m\u001b[0;34m\u001b[0m\u001b[0m\n",
      "\u001b[0;31mImportError\u001b[0m: MagickWand shared library not found.\nYou probably had not installed ImageMagick library.\nTry to install:\n  brew install freetype imagemagick"
     ]
    }
   ],
   "source": [
    "from wand.image import Image, Color"
   ]
  },
  {
   "cell_type": "code",
   "execution_count": 7,
   "metadata": {
    "collapsed": true
   },
   "outputs": [],
   "source": [
    "import subprocess"
   ]
  },
  {
   "cell_type": "code",
   "execution_count": 17,
   "metadata": {
    "collapsed": true
   },
   "outputs": [],
   "source": [
    "import os"
   ]
  },
  {
   "cell_type": "code",
   "execution_count": 23,
   "metadata": {},
   "outputs": [],
   "source": [
    "pdfs = list(filter(lambda x: x[-4:] == '.pdf', os.listdir()))\n",
    "pdf = pdfs[0]"
   ]
  },
  {
   "cell_type": "code",
   "execution_count": 30,
   "metadata": {},
   "outputs": [
    {
     "data": {
      "text/plain": [
       "'timeline.png'"
      ]
     },
     "execution_count": 30,
     "metadata": {},
     "output_type": "execute_result"
    }
   ],
   "source": [
    "pdf.replace('.pdf', '.png')"
   ]
  },
  {
   "cell_type": "code",
   "execution_count": null,
   "metadata": {
    "collapsed": true
   },
   "outputs": [],
   "source": []
  },
  {
   "cell_type": "code",
   "execution_count": 33,
   "metadata": {},
   "outputs": [],
   "source": [
    "import subprocess\n",
    "command = 'convert -verbose -density 500 \"{}\" -quality 100 \"{}\"'.format(pdf, pdf.replace('.pdf', '.png'))\n",
    "p = subprocess.Popen(command, stdout=subprocess.PIPE, shell=True)\n",
    "(out, err) = p.communicate()"
   ]
  },
  {
   "cell_type": "code",
   "execution_count": 16,
   "metadata": {},
   "outputs": [
    {
     "data": {
      "text/plain": [
       "b'Exploration.py\\nFilteredViewTransactionsExpensesAll_CSILakiMIesNet_Eng.xlsx\\nJunction Law Ideas.rtf\\nNotebook_Exploration.ipynb\\nREADME.md\\n__pycache__\\naverage_len_dict\\ncatboost_model\\ncontent.csv\\ndata.xlsx\\ndev1.ipynb\\ndf_assignment_price.csv\\ndf_lawer_assignment_price.csv\\ndf_lawer_price.csv\\nfrontend\\njson_0\\njson_1\\njson_2\\njson_3\\nlawer_counts.csv\\nlegal_tech_utils.py\\nprogress_bar.png\\ntemp-plot.html\\ntimeline.pdf\\ntimeline.png\\ntimeline.tex\\n'"
      ]
     },
     "execution_count": 16,
     "metadata": {},
     "output_type": "execute_result"
    }
   ],
   "source": [
    "out"
   ]
  }
 ],
 "metadata": {
  "kernelspec": {
   "display_name": "Python 3",
   "language": "python",
   "name": "python3"
  }
 },
 "nbformat": 4,
 "nbformat_minor": 1
}
