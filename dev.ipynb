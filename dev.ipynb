{
 "cells": [
  {
   "cell_type": "markdown",
   "metadata": {
    "collapsed": true
   },
   "source": [
    "# Reading json"
   ]
  },
  {
   "cell_type": "code",
   "execution_count": 1,
   "metadata": {
    "collapsed": true
   },
   "outputs": [],
   "source": [
    "import json\n",
    "import datetime"
   ]
  },
  {
   "cell_type": "code",
   "execution_count": 2,
   "metadata": {
    "collapsed": true
   },
   "outputs": [],
   "source": [
    "with open('json_2', 'r') as f:\n",
    "    jsdata = json.load(f)"
   ]
  },
  {
   "cell_type": "code",
   "execution_count": 3,
   "metadata": {},
   "outputs": [
    {
     "data": {
      "text/plain": [
       "['1', '10', '11', '12', '13', '14', '15', '16', '17', '18']"
      ]
     },
     "execution_count": 3,
     "metadata": {},
     "output_type": "execute_result"
    }
   ],
   "source": [
    "list(jsdata.keys())[:10]"
   ]
  },
  {
   "cell_type": "code",
   "execution_count": 4,
   "metadata": {},
   "outputs": [
    {
     "data": {
      "text/plain": [
       "{'Billable Hours': 13.0,\n",
       " 'Cost Center (Business Unit)': nan,\n",
       " 'Date': '2013-05-15',\n",
       " 'Entry Date': '2013-03-12',\n",
       " 'Hour Price': 300.0,\n",
       " 'Hours Worked': 13.0,\n",
       " 'Invoice Number': '2013-0073',\n",
       " 'Invoiced': 900.0,\n",
       " 'Invoicing Date': '2013-03-12',\n",
       " 'Margin': 900.0,\n",
       " 'Non-Billable': 'False',\n",
       " 'Paid': 900.0,\n",
       " 'Payment Date': '2013-05-15',\n",
       " 'Skill': nan,\n",
       " 'Status (Registere': 'Maksettu',\n",
       " 'Tax Rate': 'Alv 24 %',\n",
       " 'Total': 900.0,\n",
       " 'Transaction': 'Haastehakemuksen työstäminen',\n",
       " 'Transaction Type Englis': 'Writing a complaint',\n",
       " 'Transaction status (Ope': 'Maksettu',\n",
       " 'Type (Fe': 'Palkkio',\n",
       " 'n_transaction': 0}"
      ]
     },
     "execution_count": 4,
     "metadata": {},
     "output_type": "execute_result"
    }
   ],
   "source": [
    "transactions = jsdata['20120036']['Transactions']\n",
    "transactions = list(transactions.values())\n",
    "transactions[0]"
   ]
  },
  {
   "cell_type": "code",
   "execution_count": 5,
   "metadata": {},
   "outputs": [],
   "source": [
    "transactions = sorted(transactions, key=lambda x: datetime.datetime.strptime(x['Entry Date'], '%Y-%m-%d'))"
   ]
  },
  {
   "cell_type": "code",
   "execution_count": 7,
   "metadata": {
    "collapsed": true
   },
   "outputs": [],
   "source": [
    "total_for_transactions = '{:.2f}'.format(sum([trans['Total'] for trans in transactions]))"
   ]
  },
  {
   "cell_type": "code",
   "execution_count": 11,
   "metadata": {
    "scrolled": false
   },
   "outputs": [
    {
     "data": {
      "text/plain": [
       "{'Assigment name': ' Osakekauppariita',\n",
       " 'Assignment Type': 'Kilpailuoikeus',\n",
       " 'Author': 'Helen Hakaniemi',\n",
       " 'Billable Hours_sum': 24.0,\n",
       " 'Category': nan,\n",
       " 'Cost Center': nan,\n",
       " 'Customer Responsible': 'Helen Hakaniemi',\n",
       " 'Employee Role': nan,\n",
       " 'Hours Worked_sum': 24.0,\n",
       " 'Industry': 'Muu',\n",
       " 'Internal': 'False',\n",
       " 'Invoiced_sum': 1360.0,\n",
       " 'Margin_sum': nan,\n",
       " 'Owner': 'Helen Hakaniemi',\n",
       " 'Paid_sum': 1360.01,\n",
       " 'Parent Company': nan,\n",
       " 'Parent Company Home Country': nan,\n",
       " 'Parent Company Industry': nan,\n",
       " 'Parent Company Responsible': nan,\n",
       " 'Parent Company Type': nan,\n",
       " 'Payer': nan,\n",
       " 'Payer Home Country': nan,\n",
       " 'Principal': 'AsuntoOy Ankka Linna',\n",
       " 'Principal Home Country': 'Suomi',\n",
       " 'Principal Type': 'Prospect',\n",
       " 'Responsible': 'Boris Keilaniemi',\n",
       " 'Seller': nan,\n",
       " 'Total_sum': 1360.0}"
      ]
     },
     "execution_count": 11,
     "metadata": {},
     "output_type": "execute_result"
    }
   ],
   "source": [
    "jsdata['1']['Info']"
   ]
  },
  {
   "cell_type": "code",
   "execution_count": 118,
   "metadata": {
    "collapsed": true
   },
   "outputs": [],
   "source": [
    "import requests"
   ]
  },
  {
   "cell_type": "code",
   "execution_count": 122,
   "metadata": {
    "collapsed": true
   },
   "outputs": [],
   "source": [
    "url = \"http://10.100.44.140:5001/t/kasldklasd\"\n",
    "req = requests.get(url)\n",
    "rjson = req.json()"
   ]
  },
  {
   "cell_type": "code",
   "execution_count": 125,
   "metadata": {},
   "outputs": [
    {
     "data": {
      "text/plain": [
       "{'phrase': 'kasldklasd'}"
      ]
     },
     "execution_count": 125,
     "metadata": {},
     "output_type": "execute_result"
    }
   ],
   "source": [
    "rjson"
   ]
  },
  {
   "cell_type": "code",
   "execution_count": null,
   "metadata": {
    "collapsed": true
   },
   "outputs": [],
   "source": []
  },
  {
   "cell_type": "code",
   "execution_count": null,
   "metadata": {
    "collapsed": true
   },
   "outputs": [],
   "source": []
  },
  {
   "cell_type": "code",
   "execution_count": null,
   "metadata": {
    "collapsed": true
   },
   "outputs": [],
   "source": []
  }
 ],
 "metadata": {
  "kernelspec": {
   "display_name": "Python 3",
   "language": "python",
   "name": "python3"
  },
  "language_info": {
   "codemirror_mode": {
    "name": "ipython",
    "version": 3
   },
   "file_extension": ".py",
   "mimetype": "text/x-python",
   "name": "python",
   "nbconvert_exporter": "python",
   "pygments_lexer": "ipython3",
   "version": "3.6.2"
  }
 },
 "nbformat": 4,
 "nbformat_minor": 1
}
