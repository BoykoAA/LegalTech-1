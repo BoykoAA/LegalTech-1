{
 "cells": [
  {
   "cell_type": "code",
   "execution_count": 1,
   "metadata": {
    "collapsed": true
   },
   "outputs": [],
   "source": [
    "from utils import send_email, make_html"
   ]
  },
  {
   "cell_type": "code",
   "execution_count": 2,
   "metadata": {
    "collapsed": true
   },
   "outputs": [],
   "source": [
    "with open('user_psswd_recipient.txt', 'r') as f:\n",
    "    user = f.readline().strip()\n",
    "    password = f.readline().strip()\n",
    "    recipient = f.readline().strip()"
   ]
  },
  {
   "cell_type": "code",
   "execution_count": 3,
   "metadata": {
    "collapsed": true
   },
   "outputs": [],
   "source": [
    "title = 'test_title...'\n",
    "yes_url = \"yes/url/\"\n",
    "modifications_url = \"/mail-to/\"\n",
    "text = 'Sursa...'\n",
    "\n",
    "html = make_html(title, text, yes_url, modifications_url)"
   ]
  },
  {
   "cell_type": "code",
   "execution_count": 4,
   "metadata": {},
   "outputs": [
    {
     "name": "stdout",
     "output_type": "stream",
     "text": [
      "Success - test_title...\n"
     ]
    }
   ],
   "source": [
    "send_email(user, password, 'anton.karazeev@gmail.com', title, html)"
   ]
  }
 ],
 "metadata": {
  "kernelspec": {
   "display_name": "Python 3",
   "language": "python",
   "name": "python3"
  },
  "language_info": {
   "codemirror_mode": {
    "name": "ipython",
    "version": 3
   },
   "file_extension": ".py",
   "mimetype": "text/x-python",
   "name": "python",
   "nbconvert_exporter": "python",
   "pygments_lexer": "ipython3",
   "version": "3.6.2"
  }
 },
 "nbformat": 4,
 "nbformat_minor": 1
}
