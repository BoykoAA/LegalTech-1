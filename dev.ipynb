{
 "cells": [
  {
   "cell_type": "markdown",
   "metadata": {
    "collapsed": true
   },
   "source": [
    "# Reading json"
   ]
  },
  {
   "cell_type": "code",
   "execution_count": 15,
   "metadata": {
    "collapsed": true
   },
   "outputs": [],
   "source": [
    "import json\n",
    "import datetime"
   ]
  },
  {
   "cell_type": "code",
   "execution_count": 16,
   "metadata": {},
   "outputs": [],
   "source": [
    "with open('json_2', 'r') as f:\n",
    "    jsdata = json.load(f)"
   ]
  },
  {
   "cell_type": "code",
   "execution_count": 17,
   "metadata": {},
   "outputs": [
    {
     "data": {
      "text/plain": [
       "['1', '10', '11', '12', '13', '14', '15', '16', '17', '18']"
      ]
     },
     "execution_count": 17,
     "metadata": {},
     "output_type": "execute_result"
    }
   ],
   "source": [
    "list(jsdata.keys())[:10]"
   ]
  },
  {
   "cell_type": "code",
   "execution_count": 14,
   "metadata": {},
   "outputs": [
    {
     "data": {
      "text/plain": [
       "{'Info': {'Assigment name': ' Osakekauppariita',\n",
       "  'Assignment Type': 'Kilpailuoikeus',\n",
       "  'Author': 'Helen Hakaniemi',\n",
       "  'Billable Hours_sum': 24.0,\n",
       "  'Category': nan,\n",
       "  'Cost Center': nan,\n",
       "  'Customer Responsible': 'Helen Hakaniemi',\n",
       "  'Employee Role': nan,\n",
       "  'Hours Worked_sum': 24.0,\n",
       "  'Industry': 'Muu',\n",
       "  'Internal': 'False',\n",
       "  'Invoiced_sum': 1360.0,\n",
       "  'Margin_sum': nan,\n",
       "  'Owner': 'Helen Hakaniemi',\n",
       "  'Paid_sum': 1360.01,\n",
       "  'Parent Company': nan,\n",
       "  'Parent Company Home Country': nan,\n",
       "  'Parent Company Industry': nan,\n",
       "  'Parent Company Responsible': nan,\n",
       "  'Parent Company Type': nan,\n",
       "  'Payer': nan,\n",
       "  'Payer Home Country': nan,\n",
       "  'Principal': 'AsuntoOy Ankka Linna',\n",
       "  'Principal Home Country': 'Suomi',\n",
       "  'Principal Type': 'Prospect',\n",
       "  'Responsible': 'Boris Keilaniemi',\n",
       "  'Seller': nan,\n",
       "  'Total_sum': 1360.0},\n",
       " 'Transactions': {'Esiintyminen oikeudessa / Toijalan käräjäoikeus': {'Billable Hours': 7.5,\n",
       "   'Cost Center (Business Unit)': nan,\n",
       "   'Date': '2008-09-03',\n",
       "   'Entry Date': '2008-09-01',\n",
       "   'Hour Price': 170.0,\n",
       "   'Hours Worked': 7.5,\n",
       "   'Invoice Number': '1',\n",
       "   'Invoiced': 425.0,\n",
       "   'Invoicing Date': '2008-09-03',\n",
       "   'Margin': 395.0,\n",
       "   'Non-Billable': 'False',\n",
       "   'Paid': 425.0,\n",
       "   'Payment Date': '2008-09-03',\n",
       "   'Skill': nan,\n",
       "   'Status (Registere': 'Maksettu',\n",
       "   'Tax Rate': 'Alv 22 %',\n",
       "   'Total': 425.0,\n",
       "   'Transaction': 'Esiintyminen oikeudessa / Toijalan käräjäoikeus',\n",
       "   'Transaction Type Englis': 'Court appearance',\n",
       "   'Transaction status (Ope': 'Maksettu',\n",
       "   'Type (Fe': 'Palkkio',\n",
       "   'n_transaction': 0},\n",
       "  'Haastehakemus': {'Billable Hours': 5.999999999999999,\n",
       "   'Cost Center (Business Unit)': nan,\n",
       "   'Date': '2008-09-03',\n",
       "   'Entry Date': '2008-09-02',\n",
       "   'Hour Price': 170.0,\n",
       "   'Hours Worked': 5.999999999999999,\n",
       "   'Invoice Number': '1',\n",
       "   'Invoiced': 340.0,\n",
       "   'Invoicing Date': '2008-09-03',\n",
       "   'Margin': 310.0,\n",
       "   'Non-Billable': 'False',\n",
       "   'Paid': 339.99999999999994,\n",
       "   'Payment Date': '2008-09-03',\n",
       "   'Skill': nan,\n",
       "   'Status (Registere': 'Maksettu',\n",
       "   'Tax Rate': 'Alv 22 %',\n",
       "   'Total': 340.0,\n",
       "   'Transaction': 'Haastehakemus',\n",
       "   'Transaction Type Englis': 'Writing a complaint',\n",
       "   'Transaction status (Ope': 'Maksettu',\n",
       "   'Type (Fe': 'Palkkio',\n",
       "   'n_transaction': 1},\n",
       "  'Kaupparekisteriote': {'Billable Hours': 0,\n",
       "   'Cost Center (Business Unit)': nan,\n",
       "   'Date': '2008-09-03',\n",
       "   'Entry Date': '2008-09-02',\n",
       "   'Hour Price': nan,\n",
       "   'Hours Worked': 0,\n",
       "   'Invoice Number': '1',\n",
       "   'Invoiced': 0.0,\n",
       "   'Invoicing Date': '2008-09-03',\n",
       "   'Margin': nan,\n",
       "   'Non-Billable': 'False',\n",
       "   'Paid': 0.0,\n",
       "   'Payment Date': '2008-09-03',\n",
       "   'Skill': nan,\n",
       "   'Status (Registere': 'Maksettu',\n",
       "   'Tax Rate': 'Veroton',\n",
       "   'Total': 0.0,\n",
       "   'Transaction': 'Kaupparekisteriote',\n",
       "   'Transaction Type Englis': 'Trade register document',\n",
       "   'Transaction status (Ope': 'Maksettu',\n",
       "   'Type (Fe': 'Kulu',\n",
       "   'n_transaction': 2},\n",
       "  'Puhelinneuvottelu': {'Billable Hours': 1.5,\n",
       "   'Cost Center (Business Unit)': nan,\n",
       "   'Date': '2008-09-03',\n",
       "   'Entry Date': '2008-08-27',\n",
       "   'Hour Price': 170.0,\n",
       "   'Hours Worked': 1.5,\n",
       "   'Invoice Number': '1',\n",
       "   'Invoiced': 85.0,\n",
       "   'Invoicing Date': '2008-09-03',\n",
       "   'Margin': 70.0,\n",
       "   'Non-Billable': 'False',\n",
       "   'Paid': 85.0,\n",
       "   'Payment Date': '2008-09-03',\n",
       "   'Skill': nan,\n",
       "   'Status (Registere': 'Maksettu',\n",
       "   'Tax Rate': 'Alv 22 %',\n",
       "   'Total': 85.0,\n",
       "   'Transaction': 'Puhelinneuvottelu',\n",
       "   'Transaction Type Englis': 'Phone meeting',\n",
       "   'Transaction status (Ope': 'Maksettu',\n",
       "   'Type (Fe': 'Palkkio',\n",
       "   'n_transaction': 3},\n",
       "  'Toimeksiantoon perehtyminen': {'Billable Hours': 9.0,\n",
       "   'Cost Center (Business Unit)': nan,\n",
       "   'Date': '2008-09-03',\n",
       "   'Entry Date': '2008-08-27',\n",
       "   'Hour Price': 170.0,\n",
       "   'Hours Worked': 9.0,\n",
       "   'Invoice Number': '1',\n",
       "   'Invoiced': 510.0,\n",
       "   'Invoicing Date': '2008-09-03',\n",
       "   'Margin': 480.0,\n",
       "   'Non-Billable': 'False',\n",
       "   'Paid': 510.01,\n",
       "   'Payment Date': '2008-09-03',\n",
       "   'Skill': nan,\n",
       "   'Status (Registere': 'Maksettu',\n",
       "   'Tax Rate': 'Alv 22 %',\n",
       "   'Total': 510.0,\n",
       "   'Transaction': 'Toimeksiantoon perehtyminen',\n",
       "   'Transaction Type Englis': 'Investigation',\n",
       "   'Transaction status (Ope': 'Maksettu',\n",
       "   'Type (Fe': 'Palkkio',\n",
       "   'n_transaction': 4}}}"
      ]
     },
     "execution_count": 14,
     "metadata": {},
     "output_type": "execute_result"
    }
   ],
   "source": [
    "jsdata['1']"
   ]
  },
  {
   "cell_type": "code",
   "execution_count": 10,
   "metadata": {},
   "outputs": [],
   "source": [
    "ids_name = []\n",
    "\n",
    "for id_assignment in jsdata:\n",
    "    ids_name.append(' -'.join((id_assignment, jsdata[id_assignment]['Info']['Assigment name'])))"
   ]
  },
  {
   "cell_type": "code",
   "execution_count": 11,
   "metadata": {},
   "outputs": [
    {
     "data": {
      "text/plain": [
       "['1 - Osakekauppariita',\n",
       " '10 - Arviointipalvelu   Tontit',\n",
       " '11 - arvio 100',\n",
       " '12 - raakama järvenpää',\n",
       " '13 - Tonttien arviointi Järvenpäässä',\n",
       " '14 - Tietoimtus/jkevyt liikenne',\n",
       " '15 - Tnro 2008 123456, maantietoimitus välillä Ilomantsi Harjunpää',\n",
       " '16 - Tontti 091 10 15 58',\n",
       " '17 - lunastus',\n",
       " '18 - Kolmoskuja 12',\n",
       " '2 - lasten huolto',\n",
       " '20080001 - Jatkuva luottopäätös',\n",
       " '20080004 - Luottopäätös',\n",
       " '20080005 - Murto pankkiin',\n",
       " '20080006 - Roope Ankan testamentti',\n",
       " '20080007 - Urakkariita Onni Oy / Tilaaja Oy, helsingin käräjäoikeus',\n",
       " '20080008 - velkomus Kapteeni Koukku',\n",
       " '20080009 - Pesänselvitys ja perinnönjako',\n",
       " '20080010 - Koira',\n",
       " '20080011 - Työsopimuksen irtisanominen',\n",
       " '20080012 - valitus kielteisestä oleskelupapäätöksestä',\n",
       " '20080014 - Pahoinpitely R 08/1231',\n",
       " '20080015 - Perinnönjako',\n",
       " '20080016 - Hallinnollinen asia',\n",
       " '20080017 - Hallinto toimeksianto',\n",
       " '20080018 - Hallintoasia',\n",
       " '20080019 - Asuinhuoneistot',\n",
       " '20080020 - Kilpailuoikeudellinen asia',\n",
       " '20080021 - bouppteckning o avvittring',\n",
       " '20080022 - Pesän realisointi',\n",
       " '20080023 - Kilpailuoikeudellinen asia 2',\n",
       " '20080024 - välimiesmenettely',\n",
       " '20080025 - Konsultointi tehtävät',\n",
       " '20080026 - Varkaus, sjä/Jokinen Jaakko, Kouvolan KO 1.12.2008',\n",
       " '20080027 - Hallintoasia',\n",
       " '20080028 - Hallinnollinen asia',\n",
       " '20080029 - Testamentin laadinta',\n",
       " '20080030 - Yhtiökokouksen päätöksen moite',\n",
       " '20080031 - Oikeustuvatapaus   Helen Hakaniemin',\n",
       " '20080032 - Oikeusturvatapaus',\n",
       " '20080033 - oikeusturvajuttu',\n",
       " '20080034 - Perinnönjako',\n",
       " '20080035 - Matti Mattilan maaoikeusasia',\n",
       " '20080036 - Oikeusturvatapaus',\n",
       " '20080037 - Tammisen putiikki / Oikeusturvatapaus',\n",
       " '20080038 - Talousrikos',\n",
       " '20080039 - kartelli',\n",
       " '20080040 - Testi',\n",
       " '20080041 - Lomautukset',\n",
       " '20080042 - Oy Harjoitusyhtiö > Harhalaukaus Ky, velkomus',\n",
       " '20080043 - Kauppakirjan laatiminen',\n",
       " '20080044 - testamentti',\n",
       " '20080045 - IT Ihme / Oikeusturvatapaus',\n",
       " '20080046 - Velkomus',\n",
       " '20080047 - Valitus hallintooikeudelle',\n",
       " '20080048 - Ilmoitus kaupparekisteriin',\n",
       " '20080049 - Riita',\n",
       " '20080050 - tavaramerkin rekisteröinti',\n",
       " '20080051 - Keittiömestarit Oy / Ahdinko Oy   Kilpailuoikeudellinen riita',\n",
       " '20080052 - tupakan salakuljetus',\n",
       " '20080053 - Kilpailuoikeudellinen asia   juridinen neuvonta',\n",
       " '20080054 - konsultointisopimukset',\n",
       " '20080055 - Määräävän markkina aseman väärinkäyttö',\n",
       " '20080056 - sopimus',\n",
       " '20080057 - Perinnönjako',\n",
       " '20080058 - Toimitetun sahatavaran virhe',\n",
       " '20080059 - Rahoitusoikeudellinen asia; yleinen juridinen neuvonta',\n",
       " '20080060 - A yhtiö   B Yhtiö',\n",
       " '20080061 - ositus',\n",
       " '20080062 - Sopimusasia',\n",
       " '20080063 - Maksamattomat laskut',\n",
       " '20080064 - Rikosoikeus; riitaisa asia',\n",
       " '20090001 - Asuntovarkaus',\n",
       " '20090002 - Työsopimuksen laiton irtisanominen',\n",
       " '20090003 - Rahoitustuotteen markkinointiriita',\n",
       " '20090004 - Perheriita',\n",
       " '20090005 - Kartelliasia',\n",
       " '20090006 - Ulkomaalaisasia',\n",
       " '20090007 - Sopimusrikkomus',\n",
       " '20090008 - Perinnön jakaminen',\n",
       " '20090009 - Rikosoikeudellinen asia',\n",
       " '20090010 - Hallinnollinen riita',\n",
       " '20090012 - Kartelli',\n",
       " '20090013 - Konsultointia',\n",
       " '20090014 - testamentti',\n",
       " '20090015 - Testamente',\n",
       " '20090016 - Rikosoikeudellinen asia',\n",
       " '20090017 - Testamentti',\n",
       " '20090018 - Murhasyyte',\n",
       " '20090019 - Omaisuuden erottelu',\n",
       " '20090020 - Oikeusturvatapaus',\n",
       " '20090021 - Ennakon testaus',\n",
       " '20090022 - Kartelli',\n",
       " '20090023 - Kartelli',\n",
       " '20090024 - Patenttiriita',\n",
       " '20090025 - Kartelli',\n",
       " '20090026 - Uppgörande av avtal',\n",
       " '20090027 - Sopimuksen laatiminen',\n",
       " '20090028 - Kallen Kello/Risto Reipas',\n",
       " '20090029 - testamentti',\n",
       " '20090030 - Perinnönjako',\n",
       " '20090032 - sopimus',\n",
       " '20090033 - Autokorjaamokartelli',\n",
       " '20090034 - auotkorjaamokartelli',\n",
       " '20090036 - fghfh',\n",
       " '20090037 - Rahoitusneuvoja',\n",
       " '20090038 - x',\n",
       " '20090039 - Osakas sopimus.',\n",
       " '20090040 - Sisäinen toimeksianto',\n",
       " '20090041 - Kartelli',\n",
       " '20090042 - Kartelli',\n",
       " '20090043 - KARTELLI',\n",
       " '20090044 - Koeaikapurku',\n",
       " '20090045 - Kartelli',\n",
       " '20090046 - kartelli',\n",
       " '20090047 - Hallituksen erottaminen',\n",
       " '20090048 - Te / Möttönen, petos',\n",
       " '20090049 - Kartelli',\n",
       " '20090050 - Valitus MO:een',\n",
       " '20090051 - Oikeusturvatapaus',\n",
       " '20090052 - Murto Sepon kauppaan',\n",
       " '20090054 - sananvapaus',\n",
       " '20090055 - Perintöriita',\n",
       " '20090056 - Arvonlisäverouudistus',\n",
       " '20090057 - Kartelli',\n",
       " '20090058 - Konsultointia',\n",
       " '20090059 - lapsen huolto',\n",
       " '20090060 - Velkomus',\n",
       " '20090061 - Perheoikeus',\n",
       " '20090062 - Perintö',\n",
       " '20090063 - Lapsen huolto ja tapaamisoikeus',\n",
       " '20090064 - Kartellitapaus',\n",
       " '20090066 - Perinnönjako',\n",
       " '20090067 - Välimiesmenettely',\n",
       " '20090068 - Markkinointi',\n",
       " '20100001 - Sopimusrikkomus',\n",
       " '20100002 - Laskutuskiista',\n",
       " '201100001 - Lopponen lipesi',\n",
       " '20110001 - Huoltajuuskiista',\n",
       " '20110002 - Finance Dispute',\n",
       " '20110003 - Työkiista',\n",
       " '20110004 - Perintökiista',\n",
       " '20110005 - Iso perintö',\n",
       " '20110006 - Konsutointia',\n",
       " '20110007 - Työsuhteen päättäminen',\n",
       " '20110008 - Konsultointi   oikeusapu',\n",
       " '20110009 - Työoikeudellinen toimeksianto',\n",
       " '20110010 - konsultointiasia',\n",
       " '20110011 - Yritysoikeus   oikeusturvatapaus',\n",
       " '20120001 - Perheoikeustapaus',\n",
       " '20120002 - eläinsuojelurikos',\n",
       " '20120003 - Perinnönjako',\n",
       " '20120004 - Perunkirjoitus',\n",
       " '20120005 - Oikeusturvatapaus',\n",
       " '20120006 - Perintöcase',\n",
       " '20120007 - Rikosoikeus',\n",
       " '20120008 - riita',\n",
       " '20120009 - Tunarien ongelmien selvittelyä',\n",
       " '20120010 - Nalle asioihin liittyvää konsultointia',\n",
       " '20120012 - Osakeanti',\n",
       " '20120013 - Tvist',\n",
       " '20120014 - Perheoikeus   oikeusturvatapaus',\n",
       " '20120015 - Pikkuprinsessan perintö',\n",
       " '20120016 - Oikeusturvatapaus',\n",
       " '20120017 - Oikeusturvatapaus',\n",
       " '20120018 - Oikeusturvatapaus',\n",
       " '20120020 - Pahoinpitely',\n",
       " '20120021 - Perheoikeus   oikeusturvatapaus',\n",
       " '20120022 - Lomakiinteistön arviointi, Lohja',\n",
       " '20120023 - Arvointi, Lempäälä, Matti',\n",
       " '20120024 - Arviointipalvelu / Helsinki / Kati Kivinen',\n",
       " '20120025 - dog',\n",
       " '20120026 - Konsultointia 50/50',\n",
       " '20120027 - Arviointipalvelut   Tontit',\n",
       " '20120028 - Valitus Helsingin hallinto oikeuteen',\n",
       " '20120029 - Rahoituscase',\n",
       " '20120030 - Perintöasia',\n",
       " '20120031 - Testamentti',\n",
       " '20120032 - Kokko, Kalle, pahoinpitely',\n",
       " '20120033 - Rikosasia, Mikko Maijanen',\n",
       " '20120034 - Oikeusturvatapaus, Eero Eerola',\n",
       " '20120035 - Marjanen, Mikko, vahingonteko',\n",
       " '20120036 - Perheoikeus',\n",
       " '20120037 - Perheriita',\n",
       " '20120038 - Bla bla',\n",
       " '20120039 - Lukko rikki',\n",
       " '20120040 - Hallintoasia',\n",
       " '20120041 - Konsultointia',\n",
       " '20120042 - Oikeusturvatapaus',\n",
       " '20120043 - Konsultointia',\n",
       " '20120044 - Rikosoikeustapaus',\n",
       " '20120045 - Kermakaakun leivonta',\n",
       " '20120046 - Sisäinen toimeksianto',\n",
       " '20120047 - Myyntipäiväkirja',\n",
       " '20120048 - Selvittely',\n",
       " '20120049 - Testi',\n",
       " '20120050 - Nettosummat',\n",
       " '20120051 - Nettosummat 2',\n",
       " '20120052 - Advise',\n",
       " '20120053 - Netto osuudet   muutos',\n",
       " '3 - Velkomus',\n",
       " '4 - Autokolari riita',\n",
       " '5 - Oikeusturva omavastuu tapaus',\n",
       " '6 - Vastuunjakoriita Seivästö>As Oy Aamurusko',\n",
       " '7 - Kilpailuoikeudellinen asia',\n",
       " '8 - Rahoitusoikeudellinen asia',\n",
       " '9 - Kilpailuoikeus']"
      ]
     },
     "execution_count": 11,
     "metadata": {},
     "output_type": "execute_result"
    }
   ],
   "source": [
    "ids_name"
   ]
  },
  {
   "cell_type": "code",
   "execution_count": 4,
   "metadata": {},
   "outputs": [
    {
     "data": {
      "text/plain": [
       "{'Billable Hours': 13.0,\n",
       " 'Cost Center (Business Unit)': nan,\n",
       " 'Date': '2013-05-15',\n",
       " 'Entry Date': '2013-03-12',\n",
       " 'Hour Price': 300.0,\n",
       " 'Hours Worked': 13.0,\n",
       " 'Invoice Number': '2013-0073',\n",
       " 'Invoiced': 900.0,\n",
       " 'Invoicing Date': '2013-03-12',\n",
       " 'Margin': 900.0,\n",
       " 'Non-Billable': 'False',\n",
       " 'Paid': 900.0,\n",
       " 'Payment Date': '2013-05-15',\n",
       " 'Skill': nan,\n",
       " 'Status (Registere': 'Maksettu',\n",
       " 'Tax Rate': 'Alv 24 %',\n",
       " 'Total': 900.0,\n",
       " 'Transaction': 'Haastehakemuksen työstäminen',\n",
       " 'Transaction Type Englis': 'Writing a complaint',\n",
       " 'Transaction status (Ope': 'Maksettu',\n",
       " 'Type (Fe': 'Palkkio',\n",
       " 'n_transaction': 0}"
      ]
     },
     "execution_count": 4,
     "metadata": {},
     "output_type": "execute_result"
    }
   ],
   "source": [
    "transactions = jsdata['20120036']['Transactions']\n",
    "transactions = list(transactions.values())\n",
    "transactions[0]"
   ]
  },
  {
   "cell_type": "code",
   "execution_count": 5,
   "metadata": {
    "collapsed": true
   },
   "outputs": [],
   "source": [
    "transactions = sorted(transactions, key=lambda x: datetime.datetime.strptime(x['Entry Date'], '%Y-%m-%d'))"
   ]
  },
  {
   "cell_type": "code",
   "execution_count": 7,
   "metadata": {
    "collapsed": true
   },
   "outputs": [],
   "source": [
    "total_for_transactions = '{:.2f}'.format(sum([trans['Total'] for trans in transactions]))"
   ]
  },
  {
   "cell_type": "code",
   "execution_count": 11,
   "metadata": {
    "scrolled": false
   },
   "outputs": [
    {
     "data": {
      "text/plain": [
       "{'Assigment name': ' Osakekauppariita',\n",
       " 'Assignment Type': 'Kilpailuoikeus',\n",
       " 'Author': 'Helen Hakaniemi',\n",
       " 'Billable Hours_sum': 24.0,\n",
       " 'Category': nan,\n",
       " 'Cost Center': nan,\n",
       " 'Customer Responsible': 'Helen Hakaniemi',\n",
       " 'Employee Role': nan,\n",
       " 'Hours Worked_sum': 24.0,\n",
       " 'Industry': 'Muu',\n",
       " 'Internal': 'False',\n",
       " 'Invoiced_sum': 1360.0,\n",
       " 'Margin_sum': nan,\n",
       " 'Owner': 'Helen Hakaniemi',\n",
       " 'Paid_sum': 1360.01,\n",
       " 'Parent Company': nan,\n",
       " 'Parent Company Home Country': nan,\n",
       " 'Parent Company Industry': nan,\n",
       " 'Parent Company Responsible': nan,\n",
       " 'Parent Company Type': nan,\n",
       " 'Payer': nan,\n",
       " 'Payer Home Country': nan,\n",
       " 'Principal': 'AsuntoOy Ankka Linna',\n",
       " 'Principal Home Country': 'Suomi',\n",
       " 'Principal Type': 'Prospect',\n",
       " 'Responsible': 'Boris Keilaniemi',\n",
       " 'Seller': nan,\n",
       " 'Total_sum': 1360.0}"
      ]
     },
     "execution_count": 11,
     "metadata": {},
     "output_type": "execute_result"
    }
   ],
   "source": [
    "jsdata['1']['Info']"
   ]
  },
  {
   "cell_type": "code",
   "execution_count": 118,
   "metadata": {
    "collapsed": true
   },
   "outputs": [],
   "source": [
    "import requests"
   ]
  },
  {
   "cell_type": "code",
   "execution_count": 122,
   "metadata": {
    "collapsed": true
   },
   "outputs": [],
   "source": [
    "url = \"http://10.100.44.140:5001/t/kasldklasd\"\n",
    "req = requests.get(url)\n",
    "rjson = req.json()"
   ]
  },
  {
   "cell_type": "code",
   "execution_count": 125,
   "metadata": {},
   "outputs": [
    {
     "data": {
      "text/plain": [
       "{'phrase': 'kasldklasd'}"
      ]
     },
     "execution_count": 125,
     "metadata": {},
     "output_type": "execute_result"
    }
   ],
   "source": [
    "rjson"
   ]
  },
  {
   "cell_type": "code",
   "execution_count": null,
   "metadata": {
    "collapsed": true
   },
   "outputs": [],
   "source": []
  },
  {
   "cell_type": "code",
   "execution_count": null,
   "metadata": {
    "collapsed": true
   },
   "outputs": [],
   "source": []
  },
  {
   "cell_type": "code",
   "execution_count": null,
   "metadata": {
    "collapsed": true
   },
   "outputs": [],
   "source": []
  }
 ],
 "metadata": {
  "kernelspec": {
   "display_name": "Python 3",
   "language": "python",
   "name": "python3"
  },
  "language_info": {
   "codemirror_mode": {
    "name": "ipython",
    "version": 3
   },
   "file_extension": ".py",
   "mimetype": "text/x-python",
   "name": "python",
   "nbconvert_exporter": "python",
   "pygments_lexer": "ipython3",
   "version": "3.6.2"
  }
 },
 "nbformat": 4,
 "nbformat_minor": 1
}
